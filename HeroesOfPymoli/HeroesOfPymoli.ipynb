{
 "cells": [
  {
   "cell_type": "code",
   "execution_count": 1,
   "metadata": {},
   "outputs": [
    {
     "data": {
      "text/html": [
       "<div>\n",
       "<style scoped>\n",
       "    .dataframe tbody tr th:only-of-type {\n",
       "        vertical-align: middle;\n",
       "    }\n",
       "\n",
       "    .dataframe tbody tr th {\n",
       "        vertical-align: top;\n",
       "    }\n",
       "\n",
       "    .dataframe thead th {\n",
       "        text-align: right;\n",
       "    }\n",
       "</style>\n",
       "<table border=\"1\" class=\"dataframe\">\n",
       "  <thead>\n",
       "    <tr style=\"text-align: right;\">\n",
       "      <th></th>\n",
       "      <th>Purchase ID</th>\n",
       "      <th>SN</th>\n",
       "      <th>Age</th>\n",
       "      <th>Gender</th>\n",
       "      <th>Item ID</th>\n",
       "      <th>Item Name</th>\n",
       "      <th>Price</th>\n",
       "    </tr>\n",
       "  </thead>\n",
       "  <tbody>\n",
       "    <tr>\n",
       "      <th>0</th>\n",
       "      <td>0</td>\n",
       "      <td>Lisim78</td>\n",
       "      <td>20</td>\n",
       "      <td>Male</td>\n",
       "      <td>108</td>\n",
       "      <td>Extraction, Quickblade Of Trembling Hands</td>\n",
       "      <td>3.53</td>\n",
       "    </tr>\n",
       "    <tr>\n",
       "      <th>1</th>\n",
       "      <td>1</td>\n",
       "      <td>Lisovynya38</td>\n",
       "      <td>40</td>\n",
       "      <td>Male</td>\n",
       "      <td>143</td>\n",
       "      <td>Frenzied Scimitar</td>\n",
       "      <td>1.56</td>\n",
       "    </tr>\n",
       "    <tr>\n",
       "      <th>2</th>\n",
       "      <td>2</td>\n",
       "      <td>Ithergue48</td>\n",
       "      <td>24</td>\n",
       "      <td>Male</td>\n",
       "      <td>92</td>\n",
       "      <td>Final Critic</td>\n",
       "      <td>4.88</td>\n",
       "    </tr>\n",
       "    <tr>\n",
       "      <th>3</th>\n",
       "      <td>3</td>\n",
       "      <td>Chamassasya86</td>\n",
       "      <td>24</td>\n",
       "      <td>Male</td>\n",
       "      <td>100</td>\n",
       "      <td>Blindscythe</td>\n",
       "      <td>3.27</td>\n",
       "    </tr>\n",
       "    <tr>\n",
       "      <th>4</th>\n",
       "      <td>4</td>\n",
       "      <td>Iskosia90</td>\n",
       "      <td>23</td>\n",
       "      <td>Male</td>\n",
       "      <td>131</td>\n",
       "      <td>Fury</td>\n",
       "      <td>1.44</td>\n",
       "    </tr>\n",
       "  </tbody>\n",
       "</table>\n",
       "</div>"
      ],
      "text/plain": [
       "   Purchase ID             SN  Age Gender  Item ID  \\\n",
       "0            0        Lisim78   20   Male      108   \n",
       "1            1    Lisovynya38   40   Male      143   \n",
       "2            2     Ithergue48   24   Male       92   \n",
       "3            3  Chamassasya86   24   Male      100   \n",
       "4            4      Iskosia90   23   Male      131   \n",
       "\n",
       "                                   Item Name  Price  \n",
       "0  Extraction, Quickblade Of Trembling Hands   3.53  \n",
       "1                          Frenzied Scimitar   1.56  \n",
       "2                               Final Critic   4.88  \n",
       "3                                Blindscythe   3.27  \n",
       "4                                       Fury   1.44  "
      ]
     },
     "execution_count": 1,
     "metadata": {},
     "output_type": "execute_result"
    }
   ],
   "source": [
    "# Dependencies and Setup\n",
    "import pandas as pd\n",
    "\n",
    "# File to Load\n",
    "purchase_data_file = \"Resources/purchase_data.csv\"\n",
    "\n",
    "# Read Purchasing File and store into Pandas data frame\n",
    "purchase_data_df = pd.read_csv(purchase_data_file)\n",
    "purchase_data_df.head()"
   ]
  },
  {
   "cell_type": "markdown",
   "metadata": {},
   "source": [
    "## Player Count"
   ]
  },
  {
   "cell_type": "markdown",
   "metadata": {},
   "source": [
    "* Displays the total number of players\n"
   ]
  },
  {
   "cell_type": "code",
   "execution_count": 2,
   "metadata": {},
   "outputs": [
    {
     "data": {
      "text/html": [
       "<div>\n",
       "<style scoped>\n",
       "    .dataframe tbody tr th:only-of-type {\n",
       "        vertical-align: middle;\n",
       "    }\n",
       "\n",
       "    .dataframe tbody tr th {\n",
       "        vertical-align: top;\n",
       "    }\n",
       "\n",
       "    .dataframe thead th {\n",
       "        text-align: right;\n",
       "    }\n",
       "</style>\n",
       "<table border=\"1\" class=\"dataframe\">\n",
       "  <thead>\n",
       "    <tr style=\"text-align: right;\">\n",
       "      <th></th>\n",
       "      <th>Total Players</th>\n",
       "    </tr>\n",
       "  </thead>\n",
       "  <tbody>\n",
       "    <tr>\n",
       "      <th>0</th>\n",
       "      <td>576</td>\n",
       "    </tr>\n",
       "  </tbody>\n",
       "</table>\n",
       "</div>"
      ],
      "text/plain": [
       "   Total Players\n",
       "0            576"
      ]
     },
     "execution_count": 2,
     "metadata": {},
     "output_type": "execute_result"
    }
   ],
   "source": [
    "# To get an accurate list of the total number of players I want to count each unique player SN . . . \n",
    "# because certain player SN's might appear more than once.  \n",
    "# To do this the I am going to create another dataframe without the duplicate SNs\n",
    "no_duplicate_df=purchase_data_df.drop_duplicates(subset=\"SN\")\n",
    "# Count and print the number of unique player SNs\n",
    "total_players=len(no_duplicate_df[\"SN\"])\n",
    "total_players_df = pd.DataFrame({\"Total Players\": [total_players]})\n",
    "total_players_df"
   ]
  },
  {
   "cell_type": "markdown",
   "metadata": {},
   "source": [
    "## Purchasing Analysis (Total)"
   ]
  },
  {
   "cell_type": "markdown",
   "metadata": {},
   "source": [
    "* Code runs basic calculations on dataframe to obtain number of unique items, average price, number of purchases, and total revenue\n",
    "\n",
    "\n",
    "* Creates a summary data frame to hold the results"
   ]
  },
  {
   "cell_type": "code",
   "execution_count": 3,
   "metadata": {
    "scrolled": true
   },
   "outputs": [
    {
     "data": {
      "text/html": [
       "<div>\n",
       "<style scoped>\n",
       "    .dataframe tbody tr th:only-of-type {\n",
       "        vertical-align: middle;\n",
       "    }\n",
       "\n",
       "    .dataframe tbody tr th {\n",
       "        vertical-align: top;\n",
       "    }\n",
       "\n",
       "    .dataframe thead th {\n",
       "        text-align: right;\n",
       "    }\n",
       "</style>\n",
       "<table border=\"1\" class=\"dataframe\">\n",
       "  <thead>\n",
       "    <tr style=\"text-align: right;\">\n",
       "      <th></th>\n",
       "      <th>Number of Unique Items</th>\n",
       "      <th>Average Price</th>\n",
       "      <th>Number of Purchases</th>\n",
       "      <th>Total Revenue</th>\n",
       "    </tr>\n",
       "  </thead>\n",
       "  <tbody>\n",
       "    <tr>\n",
       "      <th>0</th>\n",
       "      <td>179</td>\n",
       "      <td>$3.05</td>\n",
       "      <td>780</td>\n",
       "      <td>$2379.77</td>\n",
       "    </tr>\n",
       "  </tbody>\n",
       "</table>\n",
       "</div>"
      ],
      "text/plain": [
       "   Number of Unique Items Average Price  Number of Purchases Total Revenue\n",
       "0                     179         $3.05                  780      $2379.77"
      ]
     },
     "execution_count": 3,
     "metadata": {},
     "output_type": "execute_result"
    }
   ],
   "source": [
    "#Number of unique items\n",
    "unique_items_list=purchase_data_df[\"Item ID\"].unique()\n",
    "num_items=len(unique_items_list)\n",
    "#Average Price\n",
    "average_price = purchase_data_df[\"Price\"].mean()\n",
    "#Number of purchases\n",
    "num_purchases=purchase_data_df[\"Price\"].count()\n",
    "#Total Revenue\n",
    "total_rev=purchase_data_df[\"Price\"].sum()\n",
    "\n",
    "#Create a dataframe with these calculations and format the data\n",
    "total_purchasing_df = pd.DataFrame({\"Number of Unique Items\": [num_items],\n",
    "                                   \"Average Price\":[\"${:.2f}\".format(average_price)],\n",
    "                                   \"Number of Purchases\":[num_purchases],\n",
    "                                   \"Total Revenue\":[\"${:.2f}\".format(total_rev)]})\n",
    "total_purchasing_df"
   ]
  },
  {
   "cell_type": "markdown",
   "metadata": {},
   "source": [
    "## Gender Demographics"
   ]
  },
  {
   "cell_type": "markdown",
   "metadata": {},
   "source": [
    "* Code finds number of Male, Female, and Other / Non Disclosed players. Based on this the code calculates the percentage of players that are each gender "
   ]
  },
  {
   "cell_type": "code",
   "execution_count": 4,
   "metadata": {},
   "outputs": [
    {
     "name": "stdout",
     "output_type": "stream",
     "text": [
      "<class 'pandas.core.series.Series'>\n"
     ]
    },
    {
     "data": {
      "text/html": [
       "<div>\n",
       "<style scoped>\n",
       "    .dataframe tbody tr th:only-of-type {\n",
       "        vertical-align: middle;\n",
       "    }\n",
       "\n",
       "    .dataframe tbody tr th {\n",
       "        vertical-align: top;\n",
       "    }\n",
       "\n",
       "    .dataframe thead th {\n",
       "        text-align: right;\n",
       "    }\n",
       "</style>\n",
       "<table border=\"1\" class=\"dataframe\">\n",
       "  <thead>\n",
       "    <tr style=\"text-align: right;\">\n",
       "      <th></th>\n",
       "      <th>Total Count</th>\n",
       "      <th>Percentage of Players</th>\n",
       "    </tr>\n",
       "  </thead>\n",
       "  <tbody>\n",
       "    <tr>\n",
       "      <th>Male</th>\n",
       "      <td>484</td>\n",
       "      <td>84.03%</td>\n",
       "    </tr>\n",
       "    <tr>\n",
       "      <th>Female</th>\n",
       "      <td>81</td>\n",
       "      <td>14.06%</td>\n",
       "    </tr>\n",
       "    <tr>\n",
       "      <th>Other / Non-Disclosed</th>\n",
       "      <td>11</td>\n",
       "      <td>1.91%</td>\n",
       "    </tr>\n",
       "  </tbody>\n",
       "</table>\n",
       "</div>"
      ],
      "text/plain": [
       "                       Total Count Percentage of Players\n",
       "Male                           484                84.03%\n",
       "Female                          81                14.06%\n",
       "Other / Non-Disclosed           11                 1.91%"
      ]
     },
     "execution_count": 4,
     "metadata": {},
     "output_type": "execute_result"
    }
   ],
   "source": [
    "#Value_counts is a defined function in python that will allow me to accomplish this tasks\n",
    "gender_counts = no_duplicate_df[\"Gender\"].value_counts()\n",
    "gender_counts_list = gender_counts.tolist()\n",
    "gender_demographics_df = pd.DataFrame({\"Total Count\": gender_counts,\n",
    "                                      \"Percentage of Players\": ((gender_counts/total_players)*100).map(\"{:.2f}%\".format)})\n",
    "gender_demographics_df"
   ]
  },
  {
   "cell_type": "markdown",
   "metadata": {},
   "source": [
    "\n",
    "## Purchasing Analysis (Gender)"
   ]
  },
  {
   "cell_type": "markdown",
   "metadata": {},
   "source": [
    "* Code performs purchasing analysis by gender.\n",
    "\n",
    "\n",
    "* Calculates average purchase price, total purchase value, and avg total purchase per person for each gender "
   ]
  },
  {
   "cell_type": "code",
   "execution_count": 6,
   "metadata": {},
   "outputs": [
    {
     "data": {
      "text/html": [
       "<div>\n",
       "<style scoped>\n",
       "    .dataframe tbody tr th:only-of-type {\n",
       "        vertical-align: middle;\n",
       "    }\n",
       "\n",
       "    .dataframe tbody tr th {\n",
       "        vertical-align: top;\n",
       "    }\n",
       "\n",
       "    .dataframe thead th {\n",
       "        text-align: right;\n",
       "    }\n",
       "</style>\n",
       "<table border=\"1\" class=\"dataframe\">\n",
       "  <thead>\n",
       "    <tr style=\"text-align: right;\">\n",
       "      <th></th>\n",
       "      <th>Gender</th>\n",
       "      <th>Average Purchase Price</th>\n",
       "      <th>Total Purchase Value</th>\n",
       "      <th>Avg Total Purchase per Person</th>\n",
       "    </tr>\n",
       "  </thead>\n",
       "  <tbody>\n",
       "    <tr>\n",
       "      <th>Male</th>\n",
       "      <td>652</td>\n",
       "      <td>$3.02</td>\n",
       "      <td>$1967.64</td>\n",
       "      <td>$4.07</td>\n",
       "    </tr>\n",
       "    <tr>\n",
       "      <th>Female</th>\n",
       "      <td>113</td>\n",
       "      <td>$3.20</td>\n",
       "      <td>$361.94</td>\n",
       "      <td>$4.47</td>\n",
       "    </tr>\n",
       "    <tr>\n",
       "      <th>Other / Non-Disclosed</th>\n",
       "      <td>15</td>\n",
       "      <td>$3.35</td>\n",
       "      <td>$50.19</td>\n",
       "      <td>$4.56</td>\n",
       "    </tr>\n",
       "  </tbody>\n",
       "</table>\n",
       "</div>"
      ],
      "text/plain": [
       "                       Gender Average Purchase Price Total Purchase Value  \\\n",
       "Male                      652                  $3.02             $1967.64   \n",
       "Female                    113                  $3.20              $361.94   \n",
       "Other / Non-Disclosed      15                  $3.35               $50.19   \n",
       "\n",
       "                      Avg Total Purchase per Person  \n",
       "Male                                          $4.07  \n",
       "Female                                        $4.47  \n",
       "Other / Non-Disclosed                         $4.56  "
      ]
     },
     "execution_count": 6,
     "metadata": {},
     "output_type": "execute_result"
    }
   ],
   "source": [
    "#First I am going to find the purchase count for each gender\n",
    "gender_purchases_count= purchase_data_df[\"Gender\"].value_counts()\n",
    "#Now I am recounting the number of each gender like the dataframe above \n",
    "gender_number = no_duplicate_df[\"Gender\"].value_counts()\n",
    "\n",
    "#This groups the dataframe by Gender which makes it easier to perform functions on it \n",
    "gender_grouped_df = purchase_data_df.groupby([\"Gender\"])\n",
    "\n",
    "tot_gender_spent = gender_grouped_df[\"Price\"].sum()\n",
    "avg_gender_spent = gender_grouped_df[\"Price\"].mean()\n",
    "\n",
    "avg_per_gender = tot_gender_spent / gender_number\n",
    "\n",
    "#Here I am creating the dataframe to group and print the information\n",
    "gender_purchasing_df = pd.DataFrame(gender_purchases_count)\n",
    "gender_purchasing_df[\"Average Purchase Price\"] = avg_gender_spent.map(\"${:.2f}\".format)\n",
    "gender_purchasing_df[\"Total Purchase Value\"] = tot_gender_spent.map(\"${:.2f}\".format)\n",
    "gender_purchasing_df[\"Avg Total Purchase per Person\"] = avg_per_gender.map(\"${:.2f}\".format)\n",
    "\n",
    "gender_purchasing_df"
   ]
  },
  {
   "cell_type": "markdown",
   "metadata": {},
   "source": [
    "## Age Demographics"
   ]
  },
  {
   "cell_type": "markdown",
   "metadata": {},
   "source": [
    "* Code creates bins so that performing analysis based on players aged is easier.\n",
    "\n",
    "\n",
    "* Using this bins the code calculates the number / percentage of players that fall into each age range "
   ]
  },
  {
   "cell_type": "code",
   "execution_count": 7,
   "metadata": {},
   "outputs": [
    {
     "name": "stdout",
     "output_type": "stream",
     "text": [
      "The youngest player is 7 years old. The oldest player is 45 years old\n"
     ]
    }
   ],
   "source": [
    "# Now I am going to calculate age demographics\n",
    "# The first step to doing this is finding the maximum and minimum age in the database\n",
    "min_age = no_duplicate_df[\"Age\"].min()\n",
    "max_age = no_duplicate_df[\"Age\"].max()\n",
    "print(f\"The youngest player is {min_age} years old. The oldest player is {max_age} years old\")"
   ]
  },
  {
   "cell_type": "code",
   "execution_count": 8,
   "metadata": {},
   "outputs": [
    {
     "name": "stderr",
     "output_type": "stream",
     "text": [
      "C:\\Users\\Collin\\anaconda3\\envs\\dev\\lib\\site-packages\\ipykernel_launcher.py:9: SettingWithCopyWarning: \n",
      "A value is trying to be set on a copy of a slice from a DataFrame.\n",
      "Try using .loc[row_indexer,col_indexer] = value instead\n",
      "\n",
      "See the caveats in the documentation: https://pandas.pydata.org/pandas-docs/stable/user_guide/indexing.html#returning-a-view-versus-a-copy\n",
      "  if __name__ == '__main__':\n"
     ]
    }
   ],
   "source": [
    "#Here I am creating bins\n",
    "bins = [0, 9, 14, 19, 24, 29, 34, 39, 50]\n",
    "\n",
    "label_list = [\"0-10\", \"10-14\", \"15-19\", \"20-24\", \"25-29\", \"30-34\", \"35-39\", \"40+\"]\n",
    "\n",
    "#This code adds an extra column to the dataframe with the age range bins \n",
    "#It is important to note that I am using the no_duplicate dataframe here because I am going to count the number of players . . .\n",
    "#in each age range. Later I am going to look at purchasing analysis where I need to use the original dataframe with duplicates\n",
    "no_duplicate_df[\"Age Range\"] = pd.cut(no_duplicate_df[\"Age\"], bins, labels=label_list, include_lowest=True)"
   ]
  },
  {
   "cell_type": "code",
   "execution_count": 9,
   "metadata": {},
   "outputs": [
    {
     "data": {
      "text/html": [
       "<div>\n",
       "<style scoped>\n",
       "    .dataframe tbody tr th:only-of-type {\n",
       "        vertical-align: middle;\n",
       "    }\n",
       "\n",
       "    .dataframe tbody tr th {\n",
       "        vertical-align: top;\n",
       "    }\n",
       "\n",
       "    .dataframe thead th {\n",
       "        text-align: right;\n",
       "    }\n",
       "</style>\n",
       "<table border=\"1\" class=\"dataframe\">\n",
       "  <thead>\n",
       "    <tr style=\"text-align: right;\">\n",
       "      <th></th>\n",
       "      <th>Total Count</th>\n",
       "      <th>Percentage of Players</th>\n",
       "    </tr>\n",
       "  </thead>\n",
       "  <tbody>\n",
       "    <tr>\n",
       "      <th>0-10</th>\n",
       "      <td>17</td>\n",
       "      <td>2.95%</td>\n",
       "    </tr>\n",
       "    <tr>\n",
       "      <th>10-14</th>\n",
       "      <td>22</td>\n",
       "      <td>3.82%</td>\n",
       "    </tr>\n",
       "    <tr>\n",
       "      <th>15-19</th>\n",
       "      <td>107</td>\n",
       "      <td>18.58%</td>\n",
       "    </tr>\n",
       "    <tr>\n",
       "      <th>20-24</th>\n",
       "      <td>258</td>\n",
       "      <td>44.79%</td>\n",
       "    </tr>\n",
       "    <tr>\n",
       "      <th>25-29</th>\n",
       "      <td>77</td>\n",
       "      <td>13.37%</td>\n",
       "    </tr>\n",
       "    <tr>\n",
       "      <th>30-34</th>\n",
       "      <td>52</td>\n",
       "      <td>9.03%</td>\n",
       "    </tr>\n",
       "    <tr>\n",
       "      <th>35-39</th>\n",
       "      <td>31</td>\n",
       "      <td>5.38%</td>\n",
       "    </tr>\n",
       "    <tr>\n",
       "      <th>40+</th>\n",
       "      <td>12</td>\n",
       "      <td>2.08%</td>\n",
       "    </tr>\n",
       "  </tbody>\n",
       "</table>\n",
       "</div>"
      ],
      "text/plain": [
       "       Total Count Percentage of Players\n",
       "0-10            17                 2.95%\n",
       "10-14           22                 3.82%\n",
       "15-19          107                18.58%\n",
       "20-24          258                44.79%\n",
       "25-29           77                13.37%\n",
       "30-34           52                 9.03%\n",
       "35-39           31                 5.38%\n",
       "40+             12                 2.08%"
      ]
     },
     "execution_count": 9,
     "metadata": {},
     "output_type": "execute_result"
    }
   ],
   "source": [
    "#Similar to above where I used value_counts to count genders now I am using it on age\n",
    "age_counts = no_duplicate_df[\"Age Range\"].value_counts()\n",
    "age_demographics_df = pd.DataFrame({\"Total Count\": age_counts, \n",
    "                                    \"Percentage of Players\": ((age_counts/total_players)*100).map(\"{:.2f}%\".format)})\n",
    "age_demographics_df.reindex([\"0-10\", \"10-14\", \"15-19\", \"20-24\", \"25-29\", \"30-34\", \"35-39\", \"40+\"])\n",
    "#age_demographics_df.sort_index(ascending=True)"
   ]
  },
  {
   "cell_type": "markdown",
   "metadata": {},
   "source": [
    "## Purchasing Analysis (Age)"
   ]
  },
  {
   "cell_type": "markdown",
   "metadata": {},
   "source": [
    "* Once again the players are binned by age ranges of 5 years starting at 10 and going to older then 40 years old \n",
    "\n",
    "\n",
    "* The code calculates the average purchase price, the total purchase value, and the average total purchase per person for each age range bin "
   ]
  },
  {
   "cell_type": "code",
   "execution_count": 10,
   "metadata": {},
   "outputs": [],
   "source": [
    "#Same bin creation as before but this time the original dataset will now have bins \n",
    "bins = [0, 9, 14, 19, 24, 29, 34, 39, 50]\n",
    "\n",
    "label_list = [\"0-10\", \"10-14\", \"15-19\", \"20-24\", \"25-29\", \"30-34\", \"35-39\", \"40+\"]\n",
    "purchase_data_df[\"Age Range\"] = pd.cut(purchase_data_df[\"Age\"], bins, labels=label_list, include_lowest=True)"
   ]
  },
  {
   "cell_type": "code",
   "execution_count": 11,
   "metadata": {},
   "outputs": [
    {
     "data": {
      "text/html": [
       "<div>\n",
       "<style scoped>\n",
       "    .dataframe tbody tr th:only-of-type {\n",
       "        vertical-align: middle;\n",
       "    }\n",
       "\n",
       "    .dataframe tbody tr th {\n",
       "        vertical-align: top;\n",
       "    }\n",
       "\n",
       "    .dataframe thead th {\n",
       "        text-align: right;\n",
       "    }\n",
       "</style>\n",
       "<table border=\"1\" class=\"dataframe\">\n",
       "  <thead>\n",
       "    <tr style=\"text-align: right;\">\n",
       "      <th></th>\n",
       "      <th>Age Range</th>\n",
       "      <th>Average Purchase Price</th>\n",
       "      <th>Total Purchase Value</th>\n",
       "      <th>Avg Total Purchase per Person</th>\n",
       "    </tr>\n",
       "  </thead>\n",
       "  <tbody>\n",
       "    <tr>\n",
       "      <th>0-10</th>\n",
       "      <td>23</td>\n",
       "      <td>$3.35</td>\n",
       "      <td>$77.13</td>\n",
       "      <td>$4.54</td>\n",
       "    </tr>\n",
       "    <tr>\n",
       "      <th>10-14</th>\n",
       "      <td>28</td>\n",
       "      <td>$2.96</td>\n",
       "      <td>$82.78</td>\n",
       "      <td>$3.76</td>\n",
       "    </tr>\n",
       "    <tr>\n",
       "      <th>15-19</th>\n",
       "      <td>136</td>\n",
       "      <td>$3.04</td>\n",
       "      <td>$412.89</td>\n",
       "      <td>$3.86</td>\n",
       "    </tr>\n",
       "    <tr>\n",
       "      <th>20-24</th>\n",
       "      <td>365</td>\n",
       "      <td>$3.05</td>\n",
       "      <td>$1114.06</td>\n",
       "      <td>$4.32</td>\n",
       "    </tr>\n",
       "    <tr>\n",
       "      <th>25-29</th>\n",
       "      <td>101</td>\n",
       "      <td>$2.90</td>\n",
       "      <td>$293.00</td>\n",
       "      <td>$3.81</td>\n",
       "    </tr>\n",
       "    <tr>\n",
       "      <th>30-34</th>\n",
       "      <td>73</td>\n",
       "      <td>$2.93</td>\n",
       "      <td>$214.00</td>\n",
       "      <td>$4.12</td>\n",
       "    </tr>\n",
       "    <tr>\n",
       "      <th>35-39</th>\n",
       "      <td>41</td>\n",
       "      <td>$3.60</td>\n",
       "      <td>$147.67</td>\n",
       "      <td>$4.76</td>\n",
       "    </tr>\n",
       "    <tr>\n",
       "      <th>40+</th>\n",
       "      <td>13</td>\n",
       "      <td>$2.94</td>\n",
       "      <td>$38.24</td>\n",
       "      <td>$3.19</td>\n",
       "    </tr>\n",
       "  </tbody>\n",
       "</table>\n",
       "</div>"
      ],
      "text/plain": [
       "       Age Range Average Purchase Price Total Purchase Value  \\\n",
       "0-10          23                  $3.35               $77.13   \n",
       "10-14         28                  $2.96               $82.78   \n",
       "15-19        136                  $3.04              $412.89   \n",
       "20-24        365                  $3.05             $1114.06   \n",
       "25-29        101                  $2.90              $293.00   \n",
       "30-34         73                  $2.93              $214.00   \n",
       "35-39         41                  $3.60              $147.67   \n",
       "40+           13                  $2.94               $38.24   \n",
       "\n",
       "      Avg Total Purchase per Person  \n",
       "0-10                          $4.54  \n",
       "10-14                         $3.76  \n",
       "15-19                         $3.86  \n",
       "20-24                         $4.32  \n",
       "25-29                         $3.81  \n",
       "30-34                         $4.12  \n",
       "35-39                         $4.76  \n",
       "40+                           $3.19  "
      ]
     },
     "execution_count": 11,
     "metadata": {},
     "output_type": "execute_result"
    }
   ],
   "source": [
    "#First I am going to find the purchase count for each age\n",
    "age_purchases_count= purchase_data_df[\"Age Range\"].value_counts()\n",
    "#Now I am recounting the number of each age like the dataframe above \n",
    "age_number = no_duplicate_df[\"Age Range\"].value_counts()\n",
    "\n",
    "#This groups the dataframe by age which makes it easier to perform functions on it \n",
    "age_grouped_df = purchase_data_df.groupby([\"Age Range\"])\n",
    "\n",
    "tot_age_spent = age_grouped_df[\"Price\"].sum()\n",
    "avg_age_spent = age_grouped_df[\"Price\"].mean()\n",
    "\n",
    "avg_per_age = tot_age_spent / age_number\n",
    "\n",
    "# Here I am grouping and printing the information\n",
    "age_purchasing_df = pd.DataFrame(age_purchases_count)\n",
    "age_purchasing_df[\"Average Purchase Price\"] = avg_age_spent.map(\"${:.2f}\".format)\n",
    "age_purchasing_df[\"Total Purchase Value\"] = tot_age_spent.map(\"${:.2f}\".format)\n",
    "age_purchasing_df[\"Avg Total Purchase per Person\"] = avg_per_age.map(\"${:.2f}\".format)\n",
    "\n",
    "age_purchasing_df\n",
    "age_purchasing_df.reindex([\"0-10\", \"10-14\", \"15-19\", \"20-24\", \"25-29\", \"30-34\", \"35-39\", \"40+\"])"
   ]
  },
  {
   "cell_type": "markdown",
   "metadata": {},
   "source": [
    "## Top Spenders"
   ]
  },
  {
   "cell_type": "markdown",
   "metadata": {},
   "source": [
    "* Using a groupby function to group the dataframe by SN.  \n",
    "\n",
    "\n",
    "* Then finding how much each user spent in total, the average purchase price for each user, and the number of items each user bought "
   ]
  },
  {
   "cell_type": "code",
   "execution_count": 12,
   "metadata": {},
   "outputs": [
    {
     "data": {
      "text/html": [
       "<div>\n",
       "<style scoped>\n",
       "    .dataframe tbody tr th:only-of-type {\n",
       "        vertical-align: middle;\n",
       "    }\n",
       "\n",
       "    .dataframe tbody tr th {\n",
       "        vertical-align: top;\n",
       "    }\n",
       "\n",
       "    .dataframe thead th {\n",
       "        text-align: right;\n",
       "    }\n",
       "</style>\n",
       "<table border=\"1\" class=\"dataframe\">\n",
       "  <thead>\n",
       "    <tr style=\"text-align: right;\">\n",
       "      <th></th>\n",
       "      <th>Purchase Count</th>\n",
       "      <th>Average Purchase Price</th>\n",
       "      <th>Total Purchase Value</th>\n",
       "    </tr>\n",
       "    <tr>\n",
       "      <th>SN</th>\n",
       "      <th></th>\n",
       "      <th></th>\n",
       "      <th></th>\n",
       "    </tr>\n",
       "  </thead>\n",
       "  <tbody>\n",
       "    <tr>\n",
       "      <th>Lisosia93</th>\n",
       "      <td>5</td>\n",
       "      <td>$3.79</td>\n",
       "      <td>$18.96</td>\n",
       "    </tr>\n",
       "    <tr>\n",
       "      <th>Idastidru52</th>\n",
       "      <td>4</td>\n",
       "      <td>$3.86</td>\n",
       "      <td>$15.45</td>\n",
       "    </tr>\n",
       "    <tr>\n",
       "      <th>Chamjask73</th>\n",
       "      <td>3</td>\n",
       "      <td>$4.61</td>\n",
       "      <td>$13.83</td>\n",
       "    </tr>\n",
       "    <tr>\n",
       "      <th>Iral74</th>\n",
       "      <td>4</td>\n",
       "      <td>$3.40</td>\n",
       "      <td>$13.62</td>\n",
       "    </tr>\n",
       "    <tr>\n",
       "      <th>Iskadarya95</th>\n",
       "      <td>3</td>\n",
       "      <td>$4.37</td>\n",
       "      <td>$13.10</td>\n",
       "    </tr>\n",
       "  </tbody>\n",
       "</table>\n",
       "</div>"
      ],
      "text/plain": [
       "             Purchase Count Average Purchase Price Total Purchase Value\n",
       "SN                                                                     \n",
       "Lisosia93                 5                  $3.79               $18.96\n",
       "Idastidru52               4                  $3.86               $15.45\n",
       "Chamjask73                3                  $4.61               $13.83\n",
       "Iral74                    4                  $3.40               $13.62\n",
       "Iskadarya95               3                  $4.37               $13.10"
      ]
     },
     "execution_count": 12,
     "metadata": {},
     "output_type": "execute_result"
    }
   ],
   "source": [
    "#First I am going to find the purchase count for each SN\n",
    "SN_purchases_count= purchase_data_df[\"SN\"].value_counts()\n",
    "\n",
    "#This groups the dataframe by SN which makes it easier to perform functions on it \n",
    "SN_grouped_df = purchase_data_df.groupby([\"SN\"])\n",
    "\n",
    "tot_SN_spent = SN_grouped_df[\"Price\"].sum()\n",
    "avg_SN_spent = SN_grouped_df[\"Price\"].mean()\n",
    "SN_values = SN_grouped_df[\"Item ID\"].count()\n",
    "\n",
    "# Here I am grouping and printing the information\n",
    "SN_purchasing_df = pd.DataFrame(SN_values)\n",
    "SN_purchasing_df[\"Average Purchase Price\"] = avg_SN_spent.map(\"${:.2f}\".format)\n",
    "SN_purchasing_df[\"Total Purchase Value\"] = tot_SN_spent\n",
    "\n",
    "#For some reason when I sort by Total Purchase Value it does not give the greatest prices \n",
    "SN_rename = SN_purchasing_df.rename(columns={\"Item ID\":\"Purchase Count\"})\n",
    "SN_sorted = SN_rename.sort_values(\"Total Purchase Value\",ascending=False)\n",
    "\n",
    "SN_sorted[\"Total Purchase Value\"] = tot_SN_spent.map(\"${:.2f}\".format)\n",
    "SN_sorted.head()"
   ]
  },
  {
   "cell_type": "markdown",
   "metadata": {},
   "source": [
    "## Most Popular Items"
   ]
  },
  {
   "cell_type": "markdown",
   "metadata": {},
   "source": [
    "* Using groupby to group the dataframe by both Item Name and ID item \n",
    "\n",
    "\n",
    "* Then calculating how many times each item was purchased, the item price, and the total revenue that each item brought in "
   ]
  },
  {
   "cell_type": "code",
   "execution_count": 32,
   "metadata": {},
   "outputs": [
    {
     "data": {
      "text/html": [
       "<div>\n",
       "<style scoped>\n",
       "    .dataframe tbody tr th:only-of-type {\n",
       "        vertical-align: middle;\n",
       "    }\n",
       "\n",
       "    .dataframe tbody tr th {\n",
       "        vertical-align: top;\n",
       "    }\n",
       "\n",
       "    .dataframe thead th {\n",
       "        text-align: right;\n",
       "    }\n",
       "</style>\n",
       "<table border=\"1\" class=\"dataframe\">\n",
       "  <thead>\n",
       "    <tr style=\"text-align: right;\">\n",
       "      <th></th>\n",
       "      <th></th>\n",
       "      <th>Purchase Count</th>\n",
       "      <th>Item Price</th>\n",
       "      <th>Total Purchase Value</th>\n",
       "    </tr>\n",
       "    <tr>\n",
       "      <th>Item Name</th>\n",
       "      <th>Item ID</th>\n",
       "      <th></th>\n",
       "      <th></th>\n",
       "      <th></th>\n",
       "    </tr>\n",
       "  </thead>\n",
       "  <tbody>\n",
       "    <tr>\n",
       "      <th>Abyssal Shard</th>\n",
       "      <th>162</th>\n",
       "      <td>5</td>\n",
       "      <td>[2.67]</td>\n",
       "      <td>$13.35</td>\n",
       "    </tr>\n",
       "    <tr>\n",
       "      <th>Aetherius, Boon of the Blessed</th>\n",
       "      <th>137</th>\n",
       "      <td>5</td>\n",
       "      <td>[3.39]</td>\n",
       "      <td>$16.95</td>\n",
       "    </tr>\n",
       "    <tr>\n",
       "      <th>Agatha</th>\n",
       "      <th>120</th>\n",
       "      <td>6</td>\n",
       "      <td>[3.08]</td>\n",
       "      <td>$18.48</td>\n",
       "    </tr>\n",
       "    <tr>\n",
       "      <th>Alpha</th>\n",
       "      <th>130</th>\n",
       "      <td>3</td>\n",
       "      <td>[2.07]</td>\n",
       "      <td>$6.21</td>\n",
       "    </tr>\n",
       "    <tr>\n",
       "      <th>Alpha, Oath of Zeal</th>\n",
       "      <th>79</th>\n",
       "      <td>3</td>\n",
       "      <td>[4.05]</td>\n",
       "      <td>$12.15</td>\n",
       "    </tr>\n",
       "  </tbody>\n",
       "</table>\n",
       "</div>"
      ],
      "text/plain": [
       "                                        Purchase Count Item Price  \\\n",
       "Item Name                      Item ID                              \n",
       "Abyssal Shard                  162                   5     [2.67]   \n",
       "Aetherius, Boon of the Blessed 137                   5     [3.39]   \n",
       "Agatha                         120                   6     [3.08]   \n",
       "Alpha                          130                   3     [2.07]   \n",
       "Alpha, Oath of Zeal            79                    3     [4.05]   \n",
       "\n",
       "                                       Total Purchase Value  \n",
       "Item Name                      Item ID                       \n",
       "Abyssal Shard                  162                   $13.35  \n",
       "Aetherius, Boon of the Blessed 137                   $16.95  \n",
       "Agatha                         120                   $18.48  \n",
       "Alpha                          130                    $6.21  \n",
       "Alpha, Oath of Zeal            79                    $12.15  "
      ]
     },
     "execution_count": 32,
     "metadata": {},
     "output_type": "execute_result"
    }
   ],
   "source": [
    "#First I am going to find the purchase count for each item\n",
    "#item_purchases_count= purchase_data_df[\"Item ID\"].value_counts()\n",
    "\n",
    "#This groups the dataframe by SN which makes it easier to perform functions on it\n",
    "\n",
    "item_grouped_df = purchase_data_df.groupby([\"Item Name\",\"Item ID\"])\n",
    "\n",
    "tot_item_spent = item_grouped_df[\"Price\"].sum()\n",
    "item_count = item_grouped_df[\"Price\"].count()\n",
    "item_price = item_grouped_df[\"Price\"].unique()\n",
    "\n",
    "# Here I am grouping and printing the information\n",
    "item_purchasing_df = pd.DataFrame(item_count)\n",
    "item_purchasing_df = item_purchasing_df.rename(columns={\"Price\":\"Purchase Count\"})\n",
    "item_purchasing_df[\"Item Price\"] = item_price\n",
    "item_purchasing_df[\"Total Purchase Value\"] = tot_item_spent.map(\"${:.2f}\".format)\n",
    "\n",
    "item_purchasing_df.head()"
   ]
  }
 ],
 "metadata": {
  "anaconda-cloud": {},
  "kernel_info": {
   "name": "python3"
  },
  "kernelspec": {
   "display_name": "Python 3",
   "language": "python",
   "name": "python3"
  },
  "language_info": {
   "codemirror_mode": {
    "name": "ipython",
    "version": 3
   },
   "file_extension": ".py",
   "mimetype": "text/x-python",
   "name": "python",
   "nbconvert_exporter": "python",
   "pygments_lexer": "ipython3",
   "version": "3.8.8"
  },
  "latex_envs": {
   "LaTeX_envs_menu_present": true,
   "autoclose": false,
   "autocomplete": true,
   "bibliofile": "biblio.bib",
   "cite_by": "apalike",
   "current_citInitial": 1,
   "eqLabelWithNumbers": true,
   "eqNumInitial": 1,
   "hotkeys": {
    "equation": "Ctrl-E",
    "itemize": "Ctrl-I"
   },
   "labels_anchors": false,
   "latex_user_defs": false,
   "report_style_numbering": false,
   "user_envs_cfg": false
  },
  "nteract": {
   "version": "0.2.0"
  }
 },
 "nbformat": 4,
 "nbformat_minor": 4
}
